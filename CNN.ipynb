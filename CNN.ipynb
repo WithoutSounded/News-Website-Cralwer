{
 "cells": [
  {
   "cell_type": "code",
   "execution_count": 1,
   "metadata": {},
   "outputs": [],
   "source": [
    "import os\n",
    "import requests\n",
    "import re\n",
    "from bs4 import BeautifulSoup\n",
    "import openpyxl"
   ]
  },
  {
   "cell_type": "code",
   "execution_count": 2,
   "metadata": {},
   "outputs": [],
   "source": [
    "def hasdigit(url):\n",
    "    return any(char.isdigit() for char in url)"
   ]
  },
  {
   "cell_type": "code",
   "execution_count": 3,
   "metadata": {},
   "outputs": [],
   "source": [
    "def HavaAlphabet(url):\n",
    "    return any(char.isalpha() for char in url)"
   ]
  },
  {
   "cell_type": "code",
   "execution_count": 4,
   "metadata": {},
   "outputs": [],
   "source": [
    "def cnn_business_Filter(url, flag):\n",
    "    feature1 = url[flag:flag+4]\n",
    "    if HavaAlphabet(feature1):\n",
    "        return False\n",
    "    else:\n",
    "        return True"
   ]
  },
  {
   "cell_type": "code",
   "execution_count": 5,
   "metadata": {},
   "outputs": [],
   "source": [
    "cnn_business = 'https://edition.cnn.com/business'"
   ]
  },
  {
   "cell_type": "code",
   "execution_count": 6,
   "metadata": {},
   "outputs": [],
   "source": [
    "saving_path = '.\\\\7_websites_output'\n",
    "if not os.path.exists(saving_path):\n",
    "    os.makedirs(saving_path)"
   ]
  },
  {
   "cell_type": "code",
   "execution_count": 7,
   "metadata": {},
   "outputs": [],
   "source": [
    "CNN_homePage = \".zn__containers\"\n",
    "CNN_NewsPage = \".zn-body__paragraph\""
   ]
  },
  {
   "cell_type": "code",
   "execution_count": 8,
   "metadata": {},
   "outputs": [],
   "source": [
    "def ft_CNN():\n",
    "    # Crawler ----------------------------------------------------------------------\n",
    "    prefix = 'https://edition.cnn.com'\n",
    "    r = requests.get(cnn_business)\n",
    "\n",
    "    if r.status_code == 200:  # print(r.status_code)\n",
    "        soup = BeautifulSoup(r.text, 'html.parser')\n",
    "        result = soup.select(CNN_homePage)\n",
    "\n",
    "    raw_url_list = []\n",
    "    target_url_list = []\n",
    "    for results in result:\n",
    "        class_a = results.find_all(\"a\")\n",
    "\n",
    "        for i in class_a:\n",
    "            if i['href'][0] == '/':\n",
    "                raw_url_list.append(str(prefix+i['href']))\n",
    "            else:\n",
    "                raw_url_list.append(str(i['href']))\n",
    "\n",
    "    for url in raw_url_list:\n",
    "        if cnn_business_Filter(url, len(prefix)+1):\n",
    "            if url in target_url_list:\n",
    "                pass\n",
    "            else:\n",
    "                target_url_list.append(url)\n",
    "\n",
    "    # Save ----------------------------------------------------------------------\n",
    "    workbook = openpyxl.Workbook()\n",
    "    sheet = workbook.active\n",
    "\n",
    "    ctr = 1\n",
    "\n",
    "    for url in target_url_list[:]:\n",
    "        r = requests.get(url)\n",
    "        if r.status_code == 200:\n",
    "            soup = BeautifulSoup(r.text, 'html.parser')\n",
    "            result = soup.select(CNN_NewsPage)\n",
    "            title_select = soup.find(\"h1\")\n",
    "            sheet['A'+str(ctr)] = title_select.text\n",
    "            sheet['B'+str(ctr)] = url\n",
    "            # print(\"-----------------------------------------------------------------------------------------------\")\n",
    "            # print(title_select.text)\n",
    "            # print(url)\n",
    "\n",
    "\n",
    "            content = []\n",
    "            for results in result:\n",
    "                content.append(results.text)\n",
    "\n",
    "            if content == []:\n",
    "                print(\"Can't crawler the web\")\n",
    "                print(url)\n",
    "                sheet['C'+str(ctr)] = \"Can't Crawler the Web\"\n",
    "                sheet['D'+str(ctr)] = ''\n",
    "                ctr += 1\n",
    "            else:\n",
    "                for sentence in content:\n",
    "                    sheet['D'+str(ctr)] = str(sentence)\n",
    "                    ctr += 1\n",
    "\n",
    "    workbook.save(saving_path+'\\\\CNN.xlsx')\n",
    "    \n",
    "    print('finish')"
   ]
  },
  {
   "cell_type": "code",
   "execution_count": 9,
   "metadata": {},
   "outputs": [
    {
     "name": "stdout",
     "output_type": "stream",
     "text": [
      "finish\n"
     ]
    }
   ],
   "source": [
    "ft_CNN()"
   ]
  },
  {
   "cell_type": "code",
   "execution_count": null,
   "metadata": {},
   "outputs": [],
   "source": []
  }
 ],
 "metadata": {
  "kernelspec": {
   "display_name": "Python 3",
   "language": "python",
   "name": "python3"
  },
  "language_info": {
   "codemirror_mode": {
    "name": "ipython",
    "version": 3
   },
   "file_extension": ".py",
   "mimetype": "text/x-python",
   "name": "python",
   "nbconvert_exporter": "python",
   "pygments_lexer": "ipython3",
   "version": "3.8.3"
  }
 },
 "nbformat": 4,
 "nbformat_minor": 4
}
