{
 "cells": [
  {
   "cell_type": "code",
   "execution_count": 1,
   "metadata": {},
   "outputs": [],
   "source": [
    "import os\n",
    "import requests\n",
    "import re\n",
    "from bs4 import BeautifulSoup\n",
    "import openpyxl"
   ]
  },
  {
   "cell_type": "code",
   "execution_count": 2,
   "metadata": {},
   "outputs": [],
   "source": [
    "def hasdigit(url):\n",
    "    return any(char.isdigit() for char in url)"
   ]
  },
  {
   "cell_type": "code",
   "execution_count": 3,
   "metadata": {},
   "outputs": [],
   "source": [
    "def HavaAlphabet(url):\n",
    "    return any(char.isalpha() for char in url)"
   ]
  },
  {
   "cell_type": "code",
   "execution_count": 4,
   "metadata": {},
   "outputs": [],
   "source": [
    "def TaiwanTimesWebFilter(url):\n",
    "    feature1 = url[:26]\n",
    "#     print(feature1)\n",
    "    feature2 = url[-4:]\n",
    "    feature3 = url[28:40]\n",
    "#     print(feature2)\n",
    "    if feature1 != 'https://thetaiwantimes.com':\n",
    "        return False\n",
    "    elif hasdigit(feature2):\n",
    "        return False\n",
    "    elif '/' in feature3:\n",
    "        return False\n",
    "    else:\n",
    "        return True"
   ]
  },
  {
   "cell_type": "code",
   "execution_count": 5,
   "metadata": {},
   "outputs": [],
   "source": [
    "taiwantimes = 'https://thetaiwantimes.com/category/business'"
   ]
  },
  {
   "cell_type": "code",
   "execution_count": 6,
   "metadata": {},
   "outputs": [],
   "source": [
    "saving_path = '.\\\\7_websites_output'\n",
    "if not os.path.exists(saving_path):\n",
    "    os.makedirs(saving_path)"
   ]
  },
  {
   "cell_type": "code",
   "execution_count": 7,
   "metadata": {},
   "outputs": [],
   "source": [
    "TwT_homePage_head = \".cs-container\"\n",
    "TwT_homePage_list = \".archive-main\"\n",
    "TwT_NewsPage = \".entry-content\""
   ]
  },
  {
   "cell_type": "code",
   "execution_count": 8,
   "metadata": {},
   "outputs": [],
   "source": [
    "def ft_TWT():\n",
    "    prefix = 'https://thetaiwantimes.com/'\n",
    "    r = requests.get(taiwantimes)\n",
    "\n",
    "    if r.status_code == 200:  # print(r.status_code)\n",
    "        soup = BeautifulSoup(r.text, 'html.parser')\n",
    "        result1 = soup.select(TwT_homePage_head)\n",
    "        result2 = soup.select(TwT_homePage_list)\n",
    "\n",
    "\n",
    "    target_url_list = []\n",
    "\n",
    "    for results in result1:\n",
    "        class_a = results.find_all(\"a\")\n",
    "        for i in class_a:\n",
    "            try:\n",
    "                if TaiwanTimesWebFilter(i['href']) and (i['href'] not in target_url_list):\n",
    "                    target_url_list.append(i['href'])\n",
    "            except:\n",
    "                pass\n",
    "\n",
    "    for results in result2:\n",
    "        class_a = results.find_all(\"a\")\n",
    "        for i in class_a:\n",
    "            try:\n",
    "                if TaiwanTimesWebFilter(i['href']) and (i['href'] not in target_url_list):\n",
    "                    target_url_list.append(i['href'])\n",
    "            except:\n",
    "                pass\n",
    "\n",
    "    workbook = openpyxl.Workbook()\n",
    "    sheet = workbook.active\n",
    "    ctr = 1\n",
    "\n",
    "    for url in target_url_list[:]:\n",
    "        r = requests.get(url)\n",
    "        if r.status_code == 200:\n",
    "            soup = BeautifulSoup(r.text, 'html.parser')\n",
    "            result = soup.select(TwT_NewsPage)\n",
    "            title_select = soup.find(\"h1\")\n",
    "\n",
    "            sheet['A'+str(ctr)] = title_select.text\n",
    "            sheet['B'+str(ctr)] = url\n",
    "\n",
    "            # print(\"-----------------------------------------------------------------------------------------------\")\n",
    "            # print(title_select.text)\n",
    "            # print(url)\n",
    "            content = []\n",
    "            for results in result:\n",
    "                paragraph = results.find_all(\"p\")\n",
    "                for i in paragraph:\n",
    "                    content.append(i.text)\n",
    "\n",
    "            if content == [] or len(content) < 5:\n",
    "                raw_sentence = ''\n",
    "                for i in result:\n",
    "                    raw_sentence = i.text\n",
    "                sentences = []\n",
    "                raw_sentence_split = raw_sentence.split('\\r')\n",
    "                for i in raw_sentence_split:\n",
    "                    sentences.append(i.strip())\n",
    "                for i in sentences:\n",
    "                    if i == '' or i[0]== '[':\n",
    "                        pass\n",
    "                    else:\n",
    "                        content.append(i)\n",
    "\n",
    "            if content == []:\n",
    "                print(\"Can't crawler the web\")\n",
    "                print(url)\n",
    "                sheet['C'+str(ctr)] = \"Can't Crawler the Web\"\n",
    "                sheet['D'+str(ctr)] = ''\n",
    "                ctr += 1\n",
    "            else:\n",
    "                for sentence in content:\n",
    "                    sheet['D'+str(ctr)] = str(sentence)\n",
    "    #                 print(sentence)\n",
    "                    ctr += 1\n",
    "\n",
    "    workbook.save(saving_path+'\\\\TaiwanTimes.xlsx')\n",
    "    \n",
    "    print('finish')"
   ]
  },
  {
   "cell_type": "code",
   "execution_count": 9,
   "metadata": {},
   "outputs": [
    {
     "name": "stdout",
     "output_type": "stream",
     "text": [
      "finish\n"
     ]
    }
   ],
   "source": [
    "ft_TWT()"
   ]
  },
  {
   "cell_type": "code",
   "execution_count": null,
   "metadata": {},
   "outputs": [],
   "source": []
  }
 ],
 "metadata": {
  "kernelspec": {
   "display_name": "Python 3",
   "language": "python",
   "name": "python3"
  },
  "language_info": {
   "codemirror_mode": {
    "name": "ipython",
    "version": 3
   },
   "file_extension": ".py",
   "mimetype": "text/x-python",
   "name": "python",
   "nbconvert_exporter": "python",
   "pygments_lexer": "ipython3",
   "version": "3.8.3"
  }
 },
 "nbformat": 4,
 "nbformat_minor": 4
}
