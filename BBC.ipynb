{
 "cells": [
  {
   "cell_type": "code",
   "execution_count": 1,
   "metadata": {},
   "outputs": [],
   "source": [
    "import os\n",
    "import requests\n",
    "import re\n",
    "from bs4 import BeautifulSoup\n",
    "import openpyxl"
   ]
  },
  {
   "cell_type": "code",
   "execution_count": 2,
   "metadata": {},
   "outputs": [],
   "source": [
    "def hasdigit(url):\n",
    "    return any(char.isdigit() for char in url)"
   ]
  },
  {
   "cell_type": "code",
   "execution_count": 3,
   "metadata": {},
   "outputs": [],
   "source": [
    "def HavaAlphabet(url):\n",
    "    return any(char.isalpha() for char in url)"
   ]
  },
  {
   "cell_type": "code",
   "execution_count": 4,
   "metadata": {},
   "outputs": [],
   "source": [
    "def bbc_business_Filter(url):\n",
    "    feature1 = url[-17:-9]\n",
    "    feature2 = url[-8:]\n",
    "    if feature1 != 'business':\n",
    "#         print(url)\n",
    "        return False\n",
    "    elif HavaAlphabet(feature2):\n",
    "        return False\n",
    "    else:\n",
    "        return True"
   ]
  },
  {
   "cell_type": "code",
   "execution_count": 5,
   "metadata": {},
   "outputs": [],
   "source": [
    "bbc_business = 'https://www.bbc.com/news/business'"
   ]
  },
  {
   "cell_type": "code",
   "execution_count": 6,
   "metadata": {},
   "outputs": [],
   "source": [
    "saving_path = '.\\\\7_websites_output'\n",
    "if not os.path.exists(saving_path):\n",
    "    os.makedirs(saving_path)"
   ]
  },
  {
   "cell_type": "code",
   "execution_count": 7,
   "metadata": {},
   "outputs": [],
   "source": [
    "BBC_homePage = \"#topos-component\"\n",
    "BBC_NewsPage = \".ssrcss-rgov1k-MainColumn.e1sbfw0p0\""
   ]
  },
  {
   "cell_type": "code",
   "execution_count": 8,
   "metadata": {},
   "outputs": [],
   "source": [
    "def ft_BBC():\n",
    "    prefix = 'https://www.bbc.com'\n",
    "    r = requests.get(bbc_business)\n",
    "\n",
    "    if r.status_code == 200:  # print(r.status_code)\n",
    "        soup = BeautifulSoup(r.text, 'html.parser')\n",
    "        result = soup.select(BBC_homePage)\n",
    "\n",
    "    raw_url_list = []\n",
    "    target_url_list = []\n",
    "    for results in result:\n",
    "        class_a = results.find_all(\"a\")\n",
    "\n",
    "    for i in class_a:\n",
    "        if i['href'][0] == '/':\n",
    "            raw_url_list.append(str(prefix+i['href']))\n",
    "        else:\n",
    "            raw_url_list.append(str(i['href']))\n",
    "\n",
    "    for url in raw_url_list:\n",
    "        if bbc_business_Filter(url):\n",
    "            if url in target_url_list:\n",
    "                pass\n",
    "            else:\n",
    "                target_url_list.append(url)\n",
    "\n",
    "    workbook = openpyxl.Workbook()\n",
    "    sheet = workbook.active\n",
    "\n",
    "    ctr = 1\n",
    "\n",
    "    for url in target_url_list[:]:\n",
    "        r = requests.get(url)\n",
    "        if r.status_code == 200:\n",
    "            soup = BeautifulSoup(r.text, 'html.parser')\n",
    "            result = soup.select(BBC_NewsPage)\n",
    "            title_select = soup.find(\"h1\")\n",
    "            sheet['A'+str(ctr)] = title_select.text\n",
    "            # print(\"----------------------------------------------------------------------------\")\n",
    "            # print(title_select.text)\n",
    "            # print(url)\n",
    "\n",
    "            sheet['B'+str(ctr)] = url\n",
    "\n",
    "            content = []\n",
    "            for results in result:\n",
    "                paragraph = results.find_all(\"p\")\n",
    "\n",
    "                for sentence in paragraph:\n",
    "                    content.append(sentence.text)\n",
    "\n",
    "            if content == []:\n",
    "                print(\"Can't crawler the web\")\n",
    "                print(url)\n",
    "                sheet['C'+str(ctr)] = \"Can't Crawler the Web\"\n",
    "                sheet['D'+str(ctr)] = ''\n",
    "                ctr += 1\n",
    "\n",
    "            else:\n",
    "                for sentence in content:\n",
    "                    sheet['D'+str(ctr)] = str(sentence)\n",
    "    #                 print(sentence)\n",
    "                    ctr += 1\n",
    "\n",
    "    workbook.save(saving_path+'\\\\BBC.xlsx')\n",
    "    \n",
    "    print('finish')"
   ]
  },
  {
   "cell_type": "code",
   "execution_count": 9,
   "metadata": {},
   "outputs": [
    {
     "name": "stdout",
     "output_type": "stream",
     "text": [
      "finish\n"
     ]
    }
   ],
   "source": [
    "ft_BBC()"
   ]
  },
  {
   "cell_type": "code",
   "execution_count": null,
   "metadata": {},
   "outputs": [],
   "source": []
  }
 ],
 "metadata": {
  "kernelspec": {
   "display_name": "Python 3",
   "language": "python",
   "name": "python3"
  },
  "language_info": {
   "codemirror_mode": {
    "name": "ipython",
    "version": 3
   },
   "file_extension": ".py",
   "mimetype": "text/x-python",
   "name": "python",
   "nbconvert_exporter": "python",
   "pygments_lexer": "ipython3",
   "version": "3.8.3"
  }
 },
 "nbformat": 4,
 "nbformat_minor": 4
}
