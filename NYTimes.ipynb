{
 "cells": [
  {
   "cell_type": "code",
   "execution_count": 1,
   "metadata": {},
   "outputs": [],
   "source": [
    "import os\n",
    "import requests\n",
    "import re\n",
    "from bs4 import BeautifulSoup\n",
    "import openpyxl"
   ]
  },
  {
   "cell_type": "code",
   "execution_count": 2,
   "metadata": {},
   "outputs": [],
   "source": [
    "def hasdigit(url):\n",
    "    return any(char.isdigit() for char in url)"
   ]
  },
  {
   "cell_type": "code",
   "execution_count": 3,
   "metadata": {},
   "outputs": [],
   "source": [
    "def HavaAlphabet(url):\n",
    "    return any(char.isalpha() for char in url)"
   ]
  },
  {
   "cell_type": "code",
   "execution_count": 4,
   "metadata": {},
   "outputs": [],
   "source": [
    "def NewYorkTimesUrlFilter(url):\n",
    "    feature1 = url[:23]\n",
    "#     feature2 = url[-10:]\n",
    "    if feature1 != 'https://www.nytimes.com':\n",
    "        return False\n",
    "#     elif HavaAlphabet(feature2):\n",
    "#         return False\n",
    "    else:\n",
    "        return True"
   ]
  },
  {
   "cell_type": "code",
   "execution_count": 5,
   "metadata": {},
   "outputs": [],
   "source": [
    "nytimes = 'https://www.nytimes.com/section/business'"
   ]
  },
  {
   "cell_type": "code",
   "execution_count": 6,
   "metadata": {},
   "outputs": [],
   "source": [
    "saving_path = '.\\\\7_websites_output'\n",
    "if not os.path.exists(saving_path):\n",
    "    os.makedirs(saving_path)"
   ]
  },
  {
   "cell_type": "code",
   "execution_count": 7,
   "metadata": {},
   "outputs": [],
   "source": [
    "NYT_homePage = \"#site-content\"\n",
    "NYT_NewsPage = \".css-axufdj.evys1bk0\"\n",
    "NYT_NewsPage_title1 = '.css-1vkm6nb.ehdk2mb0'\n",
    "NYT_NewsPage_title2 = '.css-16owfwv.e1h9rw200'"
   ]
  },
  {
   "cell_type": "code",
   "execution_count": 8,
   "metadata": {},
   "outputs": [],
   "source": [
    "def ft_NYT():\n",
    "    prefix = 'https://www.nytimes.com'\n",
    "    r = requests.get(nytimes)\n",
    "\n",
    "    dateRE = re.compile(\"(19|20)\\d\\d[- /.](0[1-9]|1[012])[- /.](0[0-9]|[12][0-9]|3[01])\")\n",
    "\n",
    "    if r.status_code == 200:  # print(r.status_code)\n",
    "        soup = BeautifulSoup(r.text, 'html.parser')\n",
    "        result = soup.select(NYT_homePage)\n",
    "\n",
    "    raw_url_list = []\n",
    "    target_url_list = []\n",
    "    for results in result:\n",
    "        class_a = results.find_all(\"a\")\n",
    "\n",
    "        for i in class_a:\n",
    "            if i['href'][0] == '/':\n",
    "                raw_url_list.append(str(prefix+i['href']))\n",
    "            else:\n",
    "                raw_url_list.append(str(i['href']))\n",
    "\n",
    "        for url in raw_url_list:\n",
    "            if NewYorkTimesUrlFilter(url):\n",
    "                if url in target_url_list:\n",
    "                    pass\n",
    "                else:\n",
    "                    if re.search(dateRE, url):\n",
    "                        target_url_list.append(url)\n",
    "\n",
    "    workbook = openpyxl.Workbook()\n",
    "    sheet = workbook.active\n",
    "\n",
    "    ctr = 1\n",
    "    for url in target_url_list[:]:\n",
    "        r = requests.get(url)\n",
    "        if r.status_code == 200:\n",
    "            soup = BeautifulSoup(r.text, 'html.parser')\n",
    "            result = soup.select(NYT_NewsPage)\n",
    "            title_select = soup.select(NYT_NewsPage_title1)\n",
    "            if title_select == []:\n",
    "                title_select = soup.select(NYT_NewsPage_title2)\n",
    "\n",
    "            title = ''\n",
    "            for i in title_select:\n",
    "                    title = i.text\n",
    "\n",
    "            # print(\"-----------------------------------------------------------------------------------------------\")\n",
    "            # print(title)\n",
    "            # print(url)\n",
    "            sheet['A'+str(ctr)] = title\n",
    "            sheet['B'+str(ctr)] = url\n",
    "\n",
    "            content = []\n",
    "            for results in result:\n",
    "                content.append(results.text)\n",
    "\n",
    "            if content == []:\n",
    "                print(\"Can't crawler the web\")\n",
    "                print(url)\n",
    "                sheet['C'+str(ctr)] = \"Can't Crawler the Web  (Maybe got banned or pay to watch)\"\n",
    "                sheet['D'+str(ctr)] = ''\n",
    "                ctr += 1\n",
    "            else:\n",
    "                for sentence in content:\n",
    "                    sheet['D'+str(ctr)] = str(sentence)\n",
    "    #                 print(sentence)\n",
    "                    ctr += 1\n",
    "\n",
    "    workbook.save(saving_path+'\\\\NYtimes.xlsx')\n",
    "    \n",
    "    print('finish')"
   ]
  },
  {
   "cell_type": "code",
   "execution_count": 9,
   "metadata": {},
   "outputs": [
    {
     "name": "stdout",
     "output_type": "stream",
     "text": [
      "finish\n"
     ]
    }
   ],
   "source": [
    "ft_NYT()"
   ]
  },
  {
   "cell_type": "code",
   "execution_count": null,
   "metadata": {},
   "outputs": [],
   "source": []
  }
 ],
 "metadata": {
  "kernelspec": {
   "display_name": "Python 3",
   "language": "python",
   "name": "python3"
  },
  "language_info": {
   "codemirror_mode": {
    "name": "ipython",
    "version": 3
   },
   "file_extension": ".py",
   "mimetype": "text/x-python",
   "name": "python",
   "nbconvert_exporter": "python",
   "pygments_lexer": "ipython3",
   "version": "3.8.3"
  }
 },
 "nbformat": 4,
 "nbformat_minor": 4
}
